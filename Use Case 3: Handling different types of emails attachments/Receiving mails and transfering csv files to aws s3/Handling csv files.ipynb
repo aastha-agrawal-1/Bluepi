{
 "cells": [
  {
   "cell_type": "code",
   "execution_count": 1,
   "metadata": {
    "ExecuteTime": {
     "end_time": "2020-04-04T09:50:16.061210Z",
     "start_time": "2020-04-04T09:50:15.917309Z"
    }
   },
   "outputs": [],
   "source": [
    "#importing libraries for emails\n",
    "import imaplib\n",
    "import base64\n",
    "import email\n",
    "import re\n",
    "import getpass #for entering password securely\n",
    "#importing boto3 module to connect to aws services\n",
    "import boto3\n",
    "#importing the following functions to convert the date of different timezone to local timezone\n",
    "from email.utils import parsedate_tz, mktime_tz, formatdate"
   ]
  },
  {
   "cell_type": "code",
   "execution_count": 2,
   "metadata": {
    "ExecuteTime": {
     "end_time": "2020-04-04T09:50:28.158195Z",
     "start_time": "2020-04-04T09:50:28.085360Z"
    }
   },
   "outputs": [],
   "source": [
    "#using Amazon s3\n",
    "s3 = boto3.resource('s3')"
   ]
  },
  {
   "cell_type": "code",
   "execution_count": 3,
   "metadata": {
    "ExecuteTime": {
     "end_time": "2020-04-04T09:50:41.603492Z",
     "start_time": "2020-04-04T09:50:29.095298Z"
    }
   },
   "outputs": [
    {
     "name": "stdout",
     "output_type": "stream",
     "text": [
      "Email:agrawalaastha798@gmail.com\n",
      "Password: ········\n"
     ]
    }
   ],
   "source": [
    "#to input email_id and password to access emails\n",
    "email_user=input('Email:')\n",
    "email_pass=getpass.getpass(prompt='Password: ', stream=None)"
   ]
  },
  {
   "cell_type": "code",
   "execution_count": 4,
   "metadata": {
    "ExecuteTime": {
     "end_time": "2020-04-04T09:50:42.414333Z",
     "start_time": "2020-04-04T09:50:42.404276Z"
    }
   },
   "outputs": [],
   "source": [
    "#defining function for uploading only csv files to s3 bucket\n",
    "def func_for_uploading_file(email_message):\n",
    "    \n",
    "    for part in email_message.walk():\n",
    "        \n",
    "        if part.get_content_maintype() == 'multipart':\n",
    "            continue\n",
    "        if part.get('Content-Disposition') is None:\n",
    "            continue\n",
    "        \n",
    "        #finding file names from part\n",
    "        fileName = part.get_filename()\n",
    "        #splitting file names into a list\n",
    "        file_lists=re.split('/n',fileName)\n",
    "\n",
    "        \n",
    "        for file in file_lists:\n",
    "            \n",
    "            if file.endswith('.csv') or file.endswith('.CSV'): #finding whether file is csv file or not\n",
    "                print(file)\n",
    "                # The object does not exist.Therefore,this part deals with uploading of the file in s3.\n",
    "                \n",
    "                data = part.get_payload(decode=True)\n",
    "                \n",
    "                #to extract date from mail and converting it into localtimzone\n",
    "                date_time=email_message['Date']\n",
    "                ts = mktime_tz(parsedate_tz(date_time))\n",
    "                date_time_local=formatdate(ts, localtime=True)\n",
    "                \n",
    "                #extracting date and time from the string using regex\n",
    "                date = re.findall('\\d{2}\\s(?:Jan|Feb|Mar|Apr|May|Jun|Jul|Aug|Sep|Oct|Nov|Dec)\\s\\d{4}', date_time_local)\n",
    "                time=re.findall(\"(?:[01]\\d|2[0123]):(?:[012345]\\d):(?:[012345]\\d)\",date_time_local)\n",
    "                \n",
    "                #uploading the file in s3 bucket\n",
    "                filename=file+' '+date[0]+' '+time[0]\n",
    "                #creating directory as filename with date and time of receiving\n",
    "                directory_name = filename\n",
    "                s3.Bucket('csvfilesfromemails').put_object(Key=filename+'/'+file, Body=data)\n",
    "                print('File uploaded successfully.\\n')\n",
    "      \n",
    "            else:\n",
    "                print(file)\n",
    "                print('Unwanted file.\\n')\n",
    "    \n",
    "  \n"
   ]
  },
  {
   "cell_type": "code",
   "execution_count": 10,
   "metadata": {
    "ExecuteTime": {
     "end_time": "2020-04-04T09:51:15.967161Z",
     "start_time": "2020-04-04T09:51:14.516933Z"
    }
   },
   "outputs": [],
   "source": [
    "#making connection with the host over an SSL encrypted socket\n",
    "\n",
    "mail=imaplib.IMAP4_SSL(\"imap.gmail.com\",993)"
   ]
  },
  {
   "cell_type": "code",
   "execution_count": 11,
   "metadata": {
    "ExecuteTime": {
     "end_time": "2020-04-04T09:51:17.436843Z",
     "start_time": "2020-04-04T09:51:16.647336Z"
    }
   },
   "outputs": [
    {
     "data": {
      "text/plain": [
       "('OK', [b'agrawalaastha798@gmail.com authenticated (Success)'])"
      ]
     },
     "execution_count": 11,
     "metadata": {},
     "output_type": "execute_result"
    }
   ],
   "source": [
    "#login into the account\n",
    "'''\n",
    "if at login time the app password is required, simply replace the account password with application password\n",
    "at the entrance of password.'''\n",
    "mail.login(email_user, email_pass)\n"
   ]
  },
  {
   "cell_type": "code",
   "execution_count": 12,
   "metadata": {
    "ExecuteTime": {
     "end_time": "2020-04-04T09:51:21.085160Z",
     "start_time": "2020-04-04T09:51:18.134601Z"
    }
   },
   "outputs": [
    {
     "data": {
      "text/plain": [
       "('OK',\n",
       " [b'(\\\\HasNoChildren) \"/\" \"INBOX\"',\n",
       "  b'(\\\\HasChildren \\\\Noselect) \"/\" \"[Gmail]\"',\n",
       "  b'(\\\\All \\\\HasNoChildren) \"/\" \"[Gmail]/All Mail\"',\n",
       "  b'(\\\\Drafts \\\\HasNoChildren) \"/\" \"[Gmail]/Drafts\"',\n",
       "  b'(\\\\HasNoChildren \\\\Important) \"/\" \"[Gmail]/Important\"',\n",
       "  b'(\\\\HasNoChildren \\\\Sent) \"/\" \"[Gmail]/Sent Mail\"',\n",
       "  b'(\\\\HasNoChildren \\\\Junk) \"/\" \"[Gmail]/Spam\"',\n",
       "  b'(\\\\Flagged \\\\HasNoChildren) \"/\" \"[Gmail]/Starred\"',\n",
       "  b'(\\\\HasNoChildren \\\\Trash) \"/\" \"[Gmail]/Trash\"'])"
      ]
     },
     "execution_count": 12,
     "metadata": {},
     "output_type": "execute_result"
    }
   ],
   "source": [
    "#listing the folders\n",
    "mail.list()"
   ]
  },
  {
   "cell_type": "code",
   "execution_count": 13,
   "metadata": {
    "ExecuteTime": {
     "end_time": "2020-04-04T09:51:22.868057Z",
     "start_time": "2020-04-04T09:51:22.413688Z"
    }
   },
   "outputs": [
    {
     "data": {
      "text/plain": [
       "('OK', [b'12'])"
      ]
     },
     "execution_count": 13,
     "metadata": {},
     "output_type": "execute_result"
    }
   ],
   "source": [
    "#to select inbox folder to receive mail\n",
    "mail.select('Inbox')"
   ]
  },
  {
   "cell_type": "code",
   "execution_count": 14,
   "metadata": {
    "ExecuteTime": {
     "end_time": "2020-04-04T09:51:24.319626Z",
     "start_time": "2020-04-04T09:51:23.542892Z"
    }
   },
   "outputs": [
    {
     "data": {
      "text/plain": [
       "[b'12']"
      ]
     },
     "execution_count": 14,
     "metadata": {},
     "output_type": "execute_result"
    }
   ],
   "source": [
    "#to receive unread emails from the account\n",
    "\n",
    "\n",
    "t, data = mail.search(None, 'UNSEEN')\n",
    "\n",
    "id_list = data[0].split()\n",
    "id_list"
   ]
  },
  {
   "cell_type": "code",
   "execution_count": 15,
   "metadata": {
    "ExecuteTime": {
     "end_time": "2020-04-04T09:51:38.554685Z",
     "start_time": "2020-04-04T09:51:25.670869Z"
    }
   },
   "outputs": [
    {
     "name": "stdout",
     "output_type": "stream",
     "text": [
      "MOCK_DATA.csv\n",
      "File uploaded successfully.\n",
      "\n",
      "people1.json\n",
      "Unwanted file.\n",
      "\n",
      "product_info.csv\n",
      "File uploaded successfully.\n",
      "\n"
     ]
    }
   ],
   "source": [
    "#to fetch all the unseen mails from inbox\n",
    "\n",
    "if id_list!=[]:\n",
    "    for num in id_list:\n",
    "        #fetching the mail\n",
    "        typ, data = mail.fetch(num, '(RFC822)' )\n",
    "        raw_email = data[0][1]\n",
    "\n",
    "\n",
    "        # converts byte literal to string removing b''\n",
    "        raw_email_string = raw_email.decode('utf-8')\n",
    "        email_message = email.message_from_string(raw_email_string)\n",
    "\n",
    "        #calling the function for uplodaing csv files\n",
    "        func_for_uploading_file(email_message)\n",
    "else:\n",
    "    print(\"No unseen messages!\")\n",
    "   \n"
   ]
  },
  {
   "cell_type": "code",
   "execution_count": 16,
   "metadata": {
    "ExecuteTime": {
     "end_time": "2020-04-04T09:54:14.442630Z",
     "start_time": "2020-04-04T09:54:14.033069Z"
    }
   },
   "outputs": [],
   "source": [
    "#marking the emails as seen\n",
    "#we can skip this step as the mails are already flagged as seen when they are fetched using fetch function.\n",
    "for num in id_list:\n",
    "        mail.store(num, '+FLAGS', '\\Seen')"
   ]
  },
  {
   "cell_type": "code",
   "execution_count": 17,
   "metadata": {
    "ExecuteTime": {
     "end_time": "2020-04-04T09:54:21.245278Z",
     "start_time": "2020-04-04T09:54:19.826522Z"
    }
   },
   "outputs": [
    {
     "data": {
      "text/plain": [
       "('BYE', [b'LOGOUT Requested'])"
      ]
     },
     "execution_count": 17,
     "metadata": {},
     "output_type": "execute_result"
    }
   ],
   "source": [
    "#closing the connection\n",
    "mail.close()\n",
    "mail.logout()"
   ]
  },
  {
   "cell_type": "code",
   "execution_count": null,
   "metadata": {},
   "outputs": [],
   "source": []
  }
 ],
 "metadata": {
  "kernelspec": {
   "display_name": "Python 3",
   "language": "python",
   "name": "python3"
  },
  "language_info": {
   "codemirror_mode": {
    "name": "ipython",
    "version": 3
   },
   "file_extension": ".py",
   "mimetype": "text/x-python",
   "name": "python",
   "nbconvert_exporter": "python",
   "pygments_lexer": "ipython3",
   "version": "3.7.6"
  }
 },
 "nbformat": 4,
 "nbformat_minor": 4
}
