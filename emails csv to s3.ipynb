{
 "cells": [
  {
   "cell_type": "code",
   "execution_count": 1,
   "metadata": {
    "ExecuteTime": {
     "end_time": "2020-03-30T08:00:12.200511Z",
     "start_time": "2020-03-30T08:00:12.036088Z"
    }
   },
   "outputs": [],
   "source": [
    "import boto3"
   ]
  },
  {
   "cell_type": "code",
   "execution_count": 3,
   "metadata": {
    "ExecuteTime": {
     "end_time": "2020-03-30T08:00:36.577272Z",
     "start_time": "2020-03-30T08:00:35.937113Z"
    }
   },
   "outputs": [
    {
     "name": "stdout",
     "output_type": "stream",
     "text": [
      "{'ResponseMetadata': {'RequestId': '7e9a1a6f-e2e9-48e3-baed-0052535b4b2c', 'HTTPStatusCode': 200, 'HTTPHeaders': {'date': 'Mon, 30 Mar 2020 08:00:36 GMT', 'content-type': 'text/xml', 'content-length': '248', 'connection': 'keep-alive', 'x-amzn-requestid': '7e9a1a6f-e2e9-48e3-baed-0052535b4b2c'}, 'RetryAttempts': 0}}\n"
     ]
    }
   ],
   "source": [
    "# Create SES client\n",
    "ses = boto3.client('ses')\n",
    "response = ses.verify_email_identity(EmailAddress = 'merockaas87@gmail.com')\n",
    "\n",
    "print(response)"
   ]
  },
  {
   "cell_type": "code",
   "execution_count": 6,
   "metadata": {
    "ExecuteTime": {
     "end_time": "2020-03-30T08:02:26.849961Z",
     "start_time": "2020-03-30T08:02:26.834394Z"
    }
   },
   "outputs": [
    {
     "data": {
      "text/plain": [
       "\"response = ses.create_receipt_rule_set(\\n    RuleSetName='MyRuleSet',\\n)\\n\\nprint(response)\""
      ]
     },
     "execution_count": 6,
     "metadata": {},
     "output_type": "execute_result"
    }
   ],
   "source": [
    "#creating receipt rule set\n",
    "response = ses.create_receipt_rule_set(\n",
    "    RuleSetName='MyRuleSet',\n",
    ")\n",
    "\n",
    "print(response)"
   ]
  },
  {
   "cell_type": "code",
   "execution_count": null,
   "metadata": {},
   "outputs": [],
   "source": [
    "#creating receipt rule (action to be performed when email is received)\n",
    "response = ses.create_receipt_rule(\n",
    "    After='',\n",
    "    Rule={\n",
    "        'Actions': [\n",
    "            {\n",
    "                'S3Action': {\n",
    "                    'BucketName': 'demobucketemail',\n",
    "                    'ObjectKeyPrefix': 'email',\n",
    "                },\n",
    "            },\n",
    "        ],\n",
    "        'Enabled': True,\n",
    "        'Name': 'MyRule',\n",
    "        'ScanEnabled': True,\n",
    "        'TlsPolicy': 'Optional',\n",
    "    },\n",
    "    RuleSetName='MyRuleSet',\n",
    ")\n",
    "\n",
    "print(response)"
   ]
  },
  {
   "cell_type": "code",
   "execution_count": null,
   "metadata": {},
   "outputs": [],
   "source": [
    "#receiving mail\n",
    "response = ses.get_identity_mail_from_domain_attributes(\n",
    "    Identities=[\n",
    "        'string',\n",
    "    ]\n",
    ")\n",
    "print(response)"
   ]
  }
 ],
 "metadata": {
  "kernelspec": {
   "display_name": "Python 3",
   "language": "python",
   "name": "python3"
  },
  "language_info": {
   "codemirror_mode": {
    "name": "ipython",
    "version": 3
   },
   "file_extension": ".py",
   "mimetype": "text/x-python",
   "name": "python",
   "nbconvert_exporter": "python",
   "pygments_lexer": "ipython3",
   "version": "3.7.6"
  }
 },
 "nbformat": 4,
 "nbformat_minor": 4
}
