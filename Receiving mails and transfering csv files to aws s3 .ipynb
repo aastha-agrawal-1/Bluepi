{
 "cells": [
  {
   "cell_type": "code",
   "execution_count": 1,
   "metadata": {
    "ExecuteTime": {
     "end_time": "2020-03-31T07:57:40.813738Z",
     "start_time": "2020-03-31T07:57:40.676096Z"
    }
   },
   "outputs": [],
   "source": [
    "#importing libraries for emails\n",
    "import imaplib\n",
    "import base64\n",
    "import email\n",
    "import re\n",
    "#importing boto3 module to connect to aws services\n",
    "import boto3\n",
    "import botocore"
   ]
  },
  {
   "cell_type": "code",
   "execution_count": 4,
   "metadata": {
    "ExecuteTime": {
     "end_time": "2020-03-31T07:57:55.423985Z",
     "start_time": "2020-03-31T07:57:55.408216Z"
    }
   },
   "outputs": [],
   "source": [
    "#using Amazon s3\n",
    "s3 = boto3.resource('s3')"
   ]
  },
  {
   "cell_type": "code",
   "execution_count": 5,
   "metadata": {
    "ExecuteTime": {
     "end_time": "2020-03-31T07:58:09.286864Z",
     "start_time": "2020-03-31T07:57:58.270500Z"
    }
   },
   "outputs": [
    {
     "name": "stdout",
     "output_type": "stream",
     "text": [
      "Email:agrawalaastha798@gmail.com\n",
      "Password:meandme0711\n"
     ]
    }
   ],
   "source": [
    "#to input email_id and password to access emails\n",
    "email_user=input('Email:')\n",
    "email_pass=input('Password:')"
   ]
  },
  {
   "cell_type": "code",
   "execution_count": 6,
   "metadata": {
    "ExecuteTime": {
     "end_time": "2020-03-31T07:58:55.937505Z",
     "start_time": "2020-03-31T07:58:53.941714Z"
    }
   },
   "outputs": [],
   "source": [
    "#making connection with the host over an SSL encrypted socket\n",
    "\n",
    "mail=imaplib.IMAP4_SSL(\"imap.gmail.com\",993)"
   ]
  },
  {
   "cell_type": "code",
   "execution_count": 7,
   "metadata": {
    "ExecuteTime": {
     "end_time": "2020-03-31T07:58:58.304058Z",
     "start_time": "2020-03-31T07:58:56.684899Z"
    }
   },
   "outputs": [],
   "source": [
    "#login into the account\n",
    "\n",
    "\n",
    "try:\n",
    "    mail.login(email_user, email_pass)\n",
    "except imaplib.IMAP4.error:\n",
    "    print (\"LOGIN FAILED!!!\")"
   ]
  },
  {
   "cell_type": "code",
   "execution_count": 8,
   "metadata": {
    "ExecuteTime": {
     "end_time": "2020-03-31T07:59:01.186080Z",
     "start_time": "2020-03-31T07:59:00.649211Z"
    }
   },
   "outputs": [
    {
     "data": {
      "text/plain": [
       "('OK',\n",
       " [b'(\\\\HasNoChildren) \"/\" \"INBOX\"',\n",
       "  b'(\\\\HasChildren \\\\Noselect) \"/\" \"[Gmail]\"',\n",
       "  b'(\\\\All \\\\HasNoChildren) \"/\" \"[Gmail]/All Mail\"',\n",
       "  b'(\\\\Drafts \\\\HasNoChildren) \"/\" \"[Gmail]/Drafts\"',\n",
       "  b'(\\\\HasNoChildren \\\\Important) \"/\" \"[Gmail]/Important\"',\n",
       "  b'(\\\\HasNoChildren \\\\Sent) \"/\" \"[Gmail]/Sent Mail\"',\n",
       "  b'(\\\\HasNoChildren \\\\Junk) \"/\" \"[Gmail]/Spam\"',\n",
       "  b'(\\\\Flagged \\\\HasNoChildren) \"/\" \"[Gmail]/Starred\"',\n",
       "  b'(\\\\HasNoChildren \\\\Trash) \"/\" \"[Gmail]/Trash\"'])"
      ]
     },
     "execution_count": 8,
     "metadata": {},
     "output_type": "execute_result"
    }
   ],
   "source": [
    "#listing the folders\n",
    "mail.list()"
   ]
  },
  {
   "cell_type": "code",
   "execution_count": 17,
   "metadata": {
    "ExecuteTime": {
     "end_time": "2020-03-31T08:07:02.918675Z",
     "start_time": "2020-03-31T08:07:02.523584Z"
    }
   },
   "outputs": [
    {
     "data": {
      "text/plain": [
       "('OK', [b'6'])"
      ]
     },
     "execution_count": 17,
     "metadata": {},
     "output_type": "execute_result"
    }
   ],
   "source": [
    "#to select inbox folder to receive mail\n",
    "mail.select('Inbox')"
   ]
  },
  {
   "cell_type": "code",
   "execution_count": 18,
   "metadata": {
    "ExecuteTime": {
     "end_time": "2020-03-31T08:07:04.403152Z",
     "start_time": "2020-03-31T08:07:03.921988Z"
    }
   },
   "outputs": [],
   "source": [
    "#to search the mail\n",
    "\n",
    "\n",
    "t, data = mail.search(None, 'ALL')\n",
    "\n",
    "id_list = data[0].split()\n"
   ]
  },
  {
   "cell_type": "code",
   "execution_count": 27,
   "metadata": {
    "ExecuteTime": {
     "end_time": "2020-03-31T08:15:38.360389Z",
     "start_time": "2020-03-31T08:15:35.894194Z"
    }
   },
   "outputs": [],
   "source": [
    "#to fetch received mail\n",
    "\n",
    "\n",
    "num=id_list[-1]\n",
    "\n",
    "typ, data = mail.fetch(num, '(RFC822)' )\n",
    "raw_email = data[0][1]\n",
    "\n",
    "\n",
    "# converts byte literal to string removing b''\n",
    "raw_email_string = raw_email.decode('utf-8')\n",
    "email_message = email.message_from_string(raw_email_string)\n"
   ]
  },
  {
   "cell_type": "code",
   "execution_count": 30,
   "metadata": {
    "ExecuteTime": {
     "end_time": "2020-03-31T08:17:46.577776Z",
     "start_time": "2020-03-31T08:17:44.428701Z"
    }
   },
   "outputs": [
    {
     "name": "stdout",
     "output_type": "stream",
     "text": [
      "['Apply.json']\n",
      "File unwanted.\n",
      "['College.json']\n",
      "File unwanted.\n",
      "['ContainsNull.csv']\n",
      "File uploaded successfully\n",
      "['Automating process of sending csv file from email to aws s3.ipynb']\n",
      "File uploaded successfully\n"
     ]
    }
   ],
   "source": [
    "for part in email_message.walk():\n",
    "        \n",
    "        #print(part.get_content_maintype())\n",
    "        if part.get_content_maintype() == 'multipart':\n",
    "            continue\n",
    "        if part.get('Content-Disposition') is None:\n",
    "            continue\n",
    "        #finding file names from part\n",
    "        fileName = part.get_filename()\n",
    "        #splitting file names into a list\n",
    "        file_lists=re.split('/n',fileName)\n",
    "        print(file_lists)\n",
    "        \n",
    "        for file in file_lists:\n",
    "            \n",
    "            x = re.search(\".csv\", fileName) #finding whether file is csv file or not\n",
    "\n",
    "            if x!=None:\n",
    "                try:\n",
    "                    s3.Object('csvfilesfromemails', file).load()\n",
    "                except botocore.exceptions.ClientError as e:\n",
    "                    if e.response['Error']['Code'] == \"404\":\n",
    "                        # The object does not exist.Therefore, uploading the file in s3.\n",
    "                        data = part.get_payload(decode=True)\n",
    "                        s3.Bucket('csvfilesfromemails').put_object(Key=file, Body=data)\n",
    "                        print('File uploaded successfully')\n",
    "                    else:\n",
    "                        print('The file does exist.')\n",
    "      \n",
    "            else:\n",
    "                print('File unwanted.')\n",
    "  "
   ]
  },
  {
   "cell_type": "code",
   "execution_count": null,
   "metadata": {},
   "outputs": [],
   "source": []
  }
 ],
 "metadata": {
  "kernelspec": {
   "display_name": "Python 3",
   "language": "python",
   "name": "python3"
  },
  "language_info": {
   "codemirror_mode": {
    "name": "ipython",
    "version": 3
   },
   "file_extension": ".py",
   "mimetype": "text/x-python",
   "name": "python",
   "nbconvert_exporter": "python",
   "pygments_lexer": "ipython3",
   "version": "3.7.6"
  }
 },
 "nbformat": 4,
 "nbformat_minor": 4
}
