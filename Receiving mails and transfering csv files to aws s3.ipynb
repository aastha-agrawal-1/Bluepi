{
 "cells": [
  {
   "cell_type": "code",
   "execution_count": 88,
   "metadata": {
    "ExecuteTime": {
     "end_time": "2020-03-31T08:56:21.736012Z",
     "start_time": "2020-03-31T08:56:21.731115Z"
    }
   },
   "outputs": [],
   "source": [
    "#importing libraries for emails\n",
    "import imaplib\n",
    "import base64\n",
    "import email\n",
    "import getpass #for entering password securely\n",
    "#importing boto3 module to connect to aws services\n",
    "import boto3"
   ]
  },
  {
   "cell_type": "code",
   "execution_count": 89,
   "metadata": {
    "ExecuteTime": {
     "end_time": "2020-03-31T08:56:22.385698Z",
     "start_time": "2020-03-31T08:56:22.378047Z"
    }
   },
   "outputs": [],
   "source": [
    "#using Amazon s3\n",
    "s3 = boto3.resource('s3')"
   ]
  },
  {
   "cell_type": "code",
   "execution_count": 91,
   "metadata": {
    "ExecuteTime": {
     "end_time": "2020-03-31T08:56:35.519851Z",
     "start_time": "2020-03-31T08:56:24.223312Z"
    }
   },
   "outputs": [
    {
     "name": "stdout",
     "output_type": "stream",
     "text": [
      "Email:agrawalaastha798@gmail.com\n",
      "Password: ········\n"
     ]
    }
   ],
   "source": [
    "#to input email_id and password to access emails\n",
    "email_user=input('Email:')\n",
    "email_pass=getpass.getpass(prompt='Password: ', stream=None) "
   ]
  },
  {
   "cell_type": "code",
   "execution_count": 92,
   "metadata": {
    "ExecuteTime": {
     "end_time": "2020-03-31T08:56:37.933539Z",
     "start_time": "2020-03-31T08:56:36.452576Z"
    }
   },
   "outputs": [],
   "source": [
    "#making connection with the host over an SSL encrypted socket\n",
    "\n",
    "mail=imaplib.IMAP4_SSL(\"imap.gmail.com\",993)"
   ]
  },
  {
   "cell_type": "code",
   "execution_count": 93,
   "metadata": {
    "ExecuteTime": {
     "end_time": "2020-03-31T08:56:39.079762Z",
     "start_time": "2020-03-31T08:56:38.495115Z"
    }
   },
   "outputs": [],
   "source": [
    "#login into the account\n",
    "\n",
    "\n",
    "try:\n",
    "    mail.login(email_user, email_pass)\n",
    "except imaplib.IMAP4.error:\n",
    "    print (\"LOGIN FAILED!!!\")"
   ]
  },
  {
   "cell_type": "code",
   "execution_count": 94,
   "metadata": {
    "ExecuteTime": {
     "end_time": "2020-03-31T08:56:40.591627Z",
     "start_time": "2020-03-31T08:56:39.766454Z"
    }
   },
   "outputs": [
    {
     "data": {
      "text/plain": [
       "('OK',\n",
       " [b'(\\\\HasNoChildren) \"/\" \"INBOX\"',\n",
       "  b'(\\\\HasChildren \\\\Noselect) \"/\" \"[Gmail]\"',\n",
       "  b'(\\\\All \\\\HasNoChildren) \"/\" \"[Gmail]/All Mail\"',\n",
       "  b'(\\\\Drafts \\\\HasNoChildren) \"/\" \"[Gmail]/Drafts\"',\n",
       "  b'(\\\\HasNoChildren \\\\Important) \"/\" \"[Gmail]/Important\"',\n",
       "  b'(\\\\HasNoChildren \\\\Sent) \"/\" \"[Gmail]/Sent Mail\"',\n",
       "  b'(\\\\HasNoChildren \\\\Junk) \"/\" \"[Gmail]/Spam\"',\n",
       "  b'(\\\\Flagged \\\\HasNoChildren) \"/\" \"[Gmail]/Starred\"',\n",
       "  b'(\\\\HasNoChildren \\\\Trash) \"/\" \"[Gmail]/Trash\"'])"
      ]
     },
     "execution_count": 94,
     "metadata": {},
     "output_type": "execute_result"
    }
   ],
   "source": [
    "#listing the folders\n",
    "mail.list()"
   ]
  },
  {
   "cell_type": "code",
   "execution_count": 95,
   "metadata": {
    "ExecuteTime": {
     "end_time": "2020-03-31T08:56:42.224443Z",
     "start_time": "2020-03-31T08:56:41.276354Z"
    }
   },
   "outputs": [
    {
     "data": {
      "text/plain": [
       "('OK', [b'6'])"
      ]
     },
     "execution_count": 95,
     "metadata": {},
     "output_type": "execute_result"
    }
   ],
   "source": [
    "#to select inbox folder to receive mail\n",
    "mail.select('Inbox')"
   ]
  },
  {
   "cell_type": "code",
   "execution_count": 100,
   "metadata": {
    "ExecuteTime": {
     "end_time": "2020-03-31T08:57:10.235173Z",
     "start_time": "2020-03-31T08:57:09.553558Z"
    }
   },
   "outputs": [],
   "source": [
    "#to search the mail\n",
    "\n",
    "\n",
    "t, data = mail.search(None, 'ALL')\n",
    "\n",
    "id_list = data[0].split()\n"
   ]
  },
  {
   "cell_type": "code",
   "execution_count": 101,
   "metadata": {
    "ExecuteTime": {
     "end_time": "2020-03-31T08:57:11.473322Z",
     "start_time": "2020-03-31T08:57:10.786269Z"
    }
   },
   "outputs": [],
   "source": [
    "#to fetch received mail\n",
    "\n",
    "\n",
    "num=id_list[-1]\n",
    "\n",
    "typ, data = mail.fetch(num, '(RFC822)' )\n",
    "raw_email = data[0][1]\n",
    "\n",
    "\n",
    "# converts byte literal to string removing b''\n",
    "raw_email_string = raw_email.decode('utf-8')\n",
    "email_message = email.message_from_string(raw_email_string)\n"
   ]
  },
  {
   "cell_type": "code",
   "execution_count": null,
   "metadata": {},
   "outputs": [],
   "source": [
    "#for listing files from s3 bucket\n",
    "\n",
    "l=[]\n",
    "my_bucket = s3.Bucket('csvfilesfromemails')\n",
    "\n",
    "for file in my_bucket.objects.all():\n",
    "    l.append(file.key)"
   ]
  },
  {
   "cell_type": "code",
   "execution_count": 104,
   "metadata": {
    "ExecuteTime": {
     "end_time": "2020-03-31T08:57:34.827844Z",
     "start_time": "2020-03-31T08:57:34.815735Z"
    }
   },
   "outputs": [
    {
     "name": "stdout",
     "output_type": "stream",
     "text": [
      "['Apply.json']\n",
      "Unwanted file.\n",
      "['College.json']\n",
      "Unwanted file.\n",
      "['ContainsNull.csv']\n",
      "File already exists.\n",
      "['Automating process of sending csv file from email to aws s3.ipynb']\n",
      "Unwanted file.\n"
     ]
    }
   ],
   "source": [
    "for part in email_message.walk():\n",
    "        \n",
    "        if part.get_content_maintype() == 'multipart':\n",
    "            continue\n",
    "        if part.get('Content-Disposition') is None:\n",
    "            continue\n",
    "        #finding file names from part\n",
    "        fileName = part.get_filename()\n",
    "        #splitting file names into a list\n",
    "        file_lists=re.split('/n',fileName)\n",
    "        print(file_lists)\n",
    "        \n",
    "        for file in file_lists:\n",
    "            \n",
    "            if file.endswith('.csv'): #finding whether file is csv file or not\n",
    "                if file in l:\n",
    "                    print('File already exists.')\n",
    "                else:\n",
    "                    # The object does not exist.Therefore, uploading the file in s3.\n",
    "                    data = part.get_payload(decode=True)\n",
    "                    s3.Bucket('csvfilesfromemails').put_object(Key=file, Body=data)\n",
    "                    print('File uploaded successfully.')\n",
    "      \n",
    "            else:\n",
    "                print('Unwanted file.')\n",
    "  "
   ]
  },
  {
   "cell_type": "code",
   "execution_count": null,
   "metadata": {},
   "outputs": [],
   "source": []
  }
 ],
 "metadata": {
  "kernelspec": {
   "display_name": "Python 3",
   "language": "python",
   "name": "python3"
  },
  "language_info": {
   "codemirror_mode": {
    "name": "ipython",
    "version": 3
   },
   "file_extension": ".py",
   "mimetype": "text/x-python",
   "name": "python",
   "nbconvert_exporter": "python",
   "pygments_lexer": "ipython3",
   "version": "3.7.6"
  }
 },
 "nbformat": 4,
 "nbformat_minor": 4
}
